{
 "cells": [
  {
   "cell_type": "code",
   "execution_count": 1,
   "id": "34237034",
   "metadata": {},
   "outputs": [
    {
     "name": "stdout",
     "output_type": "stream",
     "text": [
      "     0    1    2     3\n",
      "0   65 -520  321  2834\n",
      "1  122  322 -321 -2325\n",
      "2   78 -457 -468 -1283\n",
      "3   56  432  695  2024\n",
      "4  187 -427  632  2251\n",
      "5  111  532  472 -2321\n",
      "6  143  601  335  3211\n",
      "          0         1         2         3\n",
      "0  0.068702  0.000000  0.678418  0.931900\n",
      "1  0.503817  0.751115  0.126397  0.000000\n",
      "2  0.167939  0.056200  0.000000  0.188223\n",
      "3  0.000000  0.849242  1.000000  0.785585\n",
      "4  1.000000  0.082962  0.945830  0.826590\n",
      "5  0.419847  0.938448  0.808255  0.000723\n",
      "6  0.664122  1.000000  0.690456  1.000000\n",
      "          0         1         2         3\n",
      "0 -0.937925 -1.154095  0.182131  0.886357\n",
      "1  0.281072  0.495732 -1.226644 -1.185826\n",
      "2 -0.659908 -1.030652 -1.549214 -0.767292\n",
      "3 -1.130398  0.711267  1.002820  0.561009\n",
      "4  1.671156 -0.971869  0.864576  0.652187\n",
      "5  0.045827  0.907209  0.513479 -1.184219\n",
      "6  0.730176  1.042408  0.212852  1.037784\n",
      "       0      1      2       3\n",
      "0  0.065 -0.520  0.321  0.2834\n",
      "1  0.122  0.322 -0.321 -0.2325\n",
      "2  0.078 -0.457 -0.468 -0.1283\n",
      "3  0.056  0.432  0.695  0.2024\n",
      "4  0.187 -0.427  0.632  0.2251\n",
      "5  0.111  0.532  0.472 -0.2321\n",
      "6  0.143  0.601  0.335  0.3211\n"
     ]
    }
   ],
   "source": [
    "#数据标准化\n",
    "import pandas as pd\n",
    "import numpy as np\n",
    "data = pd.read_excel('sdata.xls', header=None) #读取数据\n",
    "print(data)\n",
    "print((data-data.min()) / (data.max()-data.min())) # 最小 最大规范化\n",
    "print((data-data.mean()) / data.std()) # 零 均值规范化\n",
    "print(data / 10** np.ceil(np.log10(data.abs().max()))) # 小数定标规范化"
   ]
  },
  {
   "cell_type": "code",
   "execution_count": 2,
   "id": "283012bb",
   "metadata": {},
   "outputs": [],
   "source": [
    "#数据离散化\n",
    "import pandas as pd\n",
    "import numpy as np\n",
    "data = pd.read_excel('information.xlsx') #读取数据\n",
    "data = data['年龄'].copy()\n",
    "k = 4 #类别数目\n",
    "#等宽离散化，各个类别依次命名为 0,1,2,3\n",
    "d1 = pd.cut(data,k,labels = range(k))"
   ]
  },
  {
   "cell_type": "code",
   "execution_count": 3,
   "id": "f9b950fe",
   "metadata": {},
   "outputs": [
    {
     "name": "stdout",
     "output_type": "stream",
     "text": [
      "19.999999998\n"
     ]
    }
   ],
   "source": [
    "# 等频率离散化\n",
    "w = [1.0 * i / k for i in range(k + 1)]\n",
    "# 使用describe 函数自动计算分位数\n",
    "w = data.describe(percentiles = w)[4:4 + k + 1]\n",
    "w[0] = w[0] * (1-1e-10)\n",
    "print(w[0])\n",
    "d2 = pd.cut(data, w, labels = range(k))"
   ]
  },
  {
   "cell_type": "code",
   "execution_count": 4,
   "id": "df55a440",
   "metadata": {},
   "outputs": [
    {
     "name": "stderr",
     "output_type": "stream",
     "text": [
      "D:\\Program Files\\Anaconda3\\lib\\site-packages\\sklearn\\cluster\\_kmeans.py:792: FutureWarning: 'n_jobs' was deprecated in version 0.23 and will be removed in 1.0 (renaming of 0.25).\n",
      "  warnings.warn(\"'n_jobs' was deprecated in version 0.23 and will be\"\n"
     ]
    },
    {
     "data": {
      "image/png": "[encoded data removed]",
      "text/plain": [
       "<Figure size 576x216 with 1 Axes>"
      ]
     },
     "metadata": {
      "needs_background": "light"
     },
     "output_type": "display_data"
    },
    {
     "data": {
      "image/png": "[encoded data removed]",
      "text/plain": [
       "<Figure size 576x216 with 1 Axes>"
      ]
     },
     "metadata": {
      "needs_background": "light"
     },
     "output_type": "display_data"
    },
    {
     "data": {
      "image/png": "[encoded data removed]",
      "text/plain": [
       "<Figure size 576x216 with 1 Axes>"
      ]
     },
     "metadata": {
      "needs_background": "light"
     },
     "output_type": "display_data"
    }
   ],
   "source": [
    "# （一维）聚类离散化\n",
    "from sklearn.cluster import KMeans # 引入KMeans\n",
    "kmodel = KMeans(n_clusters = k, n_jobs = 4)\n",
    "kmodel.fit(np.array(data).reshape((len(data), 1))) # 训练模型\n",
    "c = pd.DataFrame(kmodel.cluster_centers_).sort_values(0) # 输出聚类中心，并且排序\n",
    "w = c.rolling(2).mean() # 相邻两项求中点，作为边界点\n",
    "w = w.dropna()\n",
    "w = [0] + list(w[0]) + [data.max()] # 把首末边界点加上\n",
    "d3 = pd.cut(data, w, labels = range(k))\n",
    "# 自定义作图函数来显示聚类结果\n",
    "def cluster_plot(d, k):\n",
    "    import matplotlib.pyplot as plt\n",
    "    plt.rcParams['font.sans-serif'] = ['SimHei'] # 用于正常显示中文标签\n",
    "    plt.rcParams['axes.unicode_minus'] = False # 用于正常显示负号\n",
    "    plt.figure(figsize=(8, 3))\n",
    "    for j in range(0, k):\n",
    "        plt.plot(data[d==j], [j for i in d[d==j]], 'o')\n",
    "    plt.ylim(-0.5, k-0.5)\n",
    "    plt.rc('font', size=12)\n",
    "    return plt\n",
    "cluster_plot(d1, k).show()\n",
    "cluster_plot(d2, k).show()\n",
    "cluster_plot(d3, k).show()"
   ]
  },
  {
   "cell_type": "code",
   "execution_count": 5,
   "id": "6c3e7193",
   "metadata": {},
   "outputs": [
    {
     "name": "stdout",
     "output_type": "stream",
     "text": [
      "[0, 0, 0]独热编码结果为：\n",
      " [[1. 0. 1. 0. 0. 1. 0. 0. 0.]] \n",
      " [0, 1, 2]独热编码结果为：\n",
      " [[1. 0. 0. 1. 0. 0. 0. 1. 0.]] \n",
      " [1, 2, 3]独热编码结果为：\n",
      " [[0. 1. 0. 0. 1. 0. 0. 0. 1.]]\n"
     ]
    }
   ],
   "source": [
    "# 独热编码\n",
    "from sklearn import preprocessing\n",
    "# 将属性进行整数编码\n",
    "enc = preprocessing.OneHotEncoder()\n",
    "enc.fit([[0, 0, 3], [1, 2, 0], [0, 1, 1], [1, 0, 2]]) # 采用fit()方法进行训练\n",
    "# 对数据进行编码\n",
    "print('[0, 0, 0]独热编码结果为：\\n', enc.transform([[0, 0, 0]]).toarray(), '\\n',\n",
    "'[0, 1, 2]独热编码结果为：\\n', enc.transform([[0, 1, 2]]).toarray(), '\\n',\n",
    "'[1, 2, 3]独热编码结果为：\\n', enc.transform([[1, 2, 3]]).toarray())"
   ]
  },
  {
   "cell_type": "code",
   "execution_count": 6,
   "id": "7231a554",
   "metadata": {},
   "outputs": [
    {
     "name": "stdout",
     "output_type": "stream",
     "text": [
      "df1 的大小为(32, 5)，df2 的大小为(32, 4)。\n",
      "外连接合并后的表大小为： (32, 9)\n",
      "内连接合并后的表大小为： (32, 9)\n"
     ]
    }
   ],
   "source": [
    "meal = pd.read_excel('meal.xlsx')\n",
    "df1 = meal.iloc[:, :5] # 取出meal 的前5 列数据\n",
    "df2 = meal.iloc[:, 5:] # 取出meal 的后4 列数据\n",
    "print('df1 的大小为%s，df2 的大小为%s。'%(df1.shape, df2.shape))\n",
    "print('外连接合并后的表大小为：', pd.concat([df1, df2],axis=1, join='outer').shape)\n",
    "print('内连接合并后的表大小为：', pd.concat([df1, df2],axis=1, join='inner').shape)"
   ]
  },
  {
   "cell_type": "code",
   "execution_count": 7,
   "id": "c3d118a9",
   "metadata": {},
   "outputs": [
    {
     "name": "stdout",
     "output_type": "stream",
     "text": [
      "df3 的大小为(10, 9)，df4 的大小为(22, 9)。\n",
      "外连接横向合并后的表大小为： (32, 18)\n",
      "内连接横向合并后的表大小为： (0, 18)\n"
     ]
    }
   ],
   "source": [
    "# 纵向堆叠\n",
    "df3 = meal.iloc[:10, :] # 取出meal 前10 行数据\n",
    "df4 = meal.iloc[10:, :] # 取出meal 第10 行后的数据\n",
    "print('df3 的大小为%s，df4 的大小为%s。'%(df3.shape, df4.shape))\n",
    "print('外连接横向合并后的表大小为：',pd.concat([df3, df4],axis=1, join='outer').shape)\n",
    "print('内连接横向合并后的表大小为：',pd.concat([df3, df4],axis=1, join='inner').shape)"
   ]
  },
  {
   "cell_type": "code",
   "execution_count": 8,
   "id": "e9c11d3a",
   "metadata": {},
   "outputs": [
    {
     "name": "stdout",
     "output_type": "stream",
     "text": [
      "堆叠前df3 的大小为(10, 9)，df4 的大小为(22, 9)。\n",
      "append 纵向堆叠后的表大小为： (32, 9)\n"
     ]
    }
   ],
   "source": [
    "# 使用append 方法进行纵向表堆叠\n",
    "print('堆叠前df3 的大小为%s，df4 的大小为%s。'%(df3.shape, df4.shape))\n",
    "print('append 纵向堆叠后的表大小为：', df3.append(df4).shape)"
   ]
  },
  {
   "cell_type": "code",
   "execution_count": 9,
   "id": "27ba8cf4",
   "metadata": {},
   "outputs": [
    {
     "name": "stdout",
     "output_type": "stream",
     "text": [
      "meal 的原始形状为： (32, 9)\n",
      "info 的原始形状为： (16, 12)\n",
      "主键合并后的形状为： (27, 21)\n"
     ]
    }
   ],
   "source": [
    "# 主键合并数据--merge 函数进行合并\n",
    "info = pd.read_csv('info.csv', sep=',', encoding='gb18030') # 读取菜品信息表\n",
    "# 将info_id 转换为字符串格式，为合并做准备\n",
    "info['info_id'] = info['info_id'].astype('str')\n",
    "meal['order_id'] = meal['order_id'].astype('str')\n",
    "# 菜品详情表和菜品信息表都有订单编号\n",
    "# 在菜品详情表中为order_id，在菜品信息表中为info_id\n",
    "order_detail = pd.merge(meal, info, left_on='order_id', right_on='info_id')\n",
    "print('meal 的原始形状为：', meal.shape)\n",
    "print('info 的原始形状为：', info.shape)\n",
    "print('主键合并后的形状为：', order_detail.shape)"
   ]
  },
  {
   "cell_type": "code",
   "execution_count": 10,
   "id": "c0b0d89f",
   "metadata": {},
   "outputs": [
    {
     "name": "stdout",
     "output_type": "stream",
     "text": [
      "meal 的原始形状为： (32, 9)\n",
      "info 的原始形状为： (16, 12)\n",
      "join 合并后的形状为： (32, 21)\n"
     ]
    }
   ],
   "source": [
    "# 使用join 方法进行主键合并\n",
    "info.rename(columns={'info_id': 'order_id'}, inplace=True)\n",
    "meal['order_id'] = meal['order_id'].astype('int')\n",
    "order_detail1 = meal.join(info, on='order_id', rsuffix='1')\n",
    "print('meal 的原始形状为：', meal.shape)\n",
    "print('info 的原始形状为：', info.shape)\n",
    "print('join 合并后的形状为：', order_detail1.shape)"
   ]
  }
 ],
 "metadata": {
  "kernelspec": {
   "display_name": "Python 3",
   "language": "python",
   "name": "python3"
  },
  "language_info": {
   "codemirror_mode": {
    "name": "ipython",
    "version": 3
   },
   "file_extension": ".py",
   "mimetype": "text/x-python",
   "name": "python",
   "nbconvert_exporter": "python",
   "pygments_lexer": "ipython3",
   "version": "3.8.8"
  }
 },
 "nbformat": 4,
 "nbformat_minor": 5
}
