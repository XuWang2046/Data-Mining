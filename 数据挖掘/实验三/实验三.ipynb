{
 "cells": [
  {
   "cell_type": "code",
   "execution_count": 1,
   "id": "47ee4fe1",
   "metadata": {},
   "outputs": [],
   "source": [
    "import pandas as pd\n",
    "import numpy as np\n",
    "# 编写UCF推荐算法\n",
    "def UBCF_rec(train_df,s_data,N):\n",
    "    rec_pre = pd.DataFrame()\n",
    "    for u in s_data.index:\n",
    "        # 获取推荐电影\n",
    "        try:\n",
    "            s_users = s_data.loc[u].dropna().sort_values().index[int('-'+str(N)):]\n",
    "            s_items = []\n",
    "            for v in s_users:\n",
    "                s_items += list(train_df.loc[[v]].dropna(axis=1).columns)\n",
    "            u_items = train_df.loc[u].dropna().index\n",
    "            rec_items = list(set([i for i in s_items if i not in u_items]))\n",
    "            # 获取预测评分\n",
    "            s_uv = s_data.loc[u,list(s_users)].values\n",
    "            train_df_tmp = train_df.loc[s_users,rec_items].values\n",
    "            r_m = np.nanmean(train_df.loc[s_users],axis=1)\n",
    "            U_array = (train_df_tmp-(r_m.reshape(-1,1)*np.ones((N,train_df_tmp.shape[1]))))*s_uv.reshape(-1,1)\n",
    "            U = np.nansum(U_array,axis=0)\n",
    "            s_uv_tmp = s_uv.reshape(-1,1)*np.ones((len(s_users),train_df_tmp.shape[1]))*(train_df_tmp/train_df_tmp)\n",
    "            D = np.nansum(s_uv_tmp*r_m.reshape(-1,1),axis=0)\n",
    "            D = np.nansum(s_uv_tmp,axis=0)\n",
    "            p = np.mean(r_m) + U/D\n",
    "            rec_pre_tmp = pd.DataFrame(columns=rec_items)\n",
    "            rec_pre_tmp.loc[u,:]=p\n",
    "            rec_pre = pd.concat([rec_pre,rec_pre_tmp])\n",
    "        except:\n",
    "            pass\n",
    "    return rec_pre"
   ]
  },
  {
   "cell_type": "code",
   "execution_count": 2,
   "id": "0fca69b7",
   "metadata": {},
   "outputs": [
    {
     "name": "stdout",
     "output_type": "stream",
     "text": [
      "请稍等：.请稍等：.预测评分与实际评分之间的均方误差为： 1.522342552675616\n"
     ]
    }
   ],
   "source": [
    "import time\n",
    "if __name__ == '__main__':\n",
    "    train_data = pd.read_csv('data/train_data.csv')\n",
    "    test_data = pd.read_csv('data/test_data.csv')\n",
    "    # 用户—物品矩阵\n",
    "    train_df = train_data.pivot(index='user_id', columns='anime_id', values='rating')\n",
    "    test_df = test_data.pivot(index='user_id', columns='anime_id', values='rating')\n",
    "    # 基于用户的协同过滤算法# 用户相似度矩阵\n",
    "    print('请稍等：', end='')\n",
    "    s_data = pd.DataFrame(index=test_df.index, columns=train_df.index)\n",
    "    for u in test_df.index:\n",
    "        Du = np.sqrt(sum(train_df.loc[[u]].dropna(axis=1).values[0] ** 2))\n",
    "        for v in train_df.index:\n",
    "            if v != u:\n",
    "                uv_data = train_df.loc[[u, v]].dropna(axis=1)\n",
    "                v_data = train_df.loc[[v]].dropna(axis=1)\n",
    "                U = sum(uv_data.values[0] * uv_data.values[1])\n",
    "                Dv = np.sqrt(sum(v_data.values[0] ** 2))\n",
    "                s = U / (Du * Dv)\n",
    "                s_data.loc[u, v] = s\n",
    "    print('.', end='')\n",
    "    # 获取最优近邻数\n",
    "    print('请稍等：', end='')\n",
    "    MAE_anchor = []\n",
    "    time_anchor = []\n",
    "    for N in range(1, 3, 1):\n",
    "        start = time.time()\n",
    "        rec_pre = UBCF_rec(train_df, s_data, N)\n",
    "        co = list(set(test_df.columns) & set(rec_pre.columns))\n",
    "        rec_pre1 = rec_pre[co]\n",
    "        test_df1 = test_df[co]\n",
    "        MAE = 0\n",
    "        for u in test_df1.index:\n",
    "            tmp = pd.concat([rec_pre1.loc[[u]], test_df1.loc[[u]]]).dropna(axis=1)\n",
    "            MAE += (np.abs(tmp.iloc[0].values - tmp.iloc[1].values)).mean()\n",
    "        MAE = MAE / rec_pre1.shape[0]\n",
    "        end = time.time()\n",
    "        T = end - start\n",
    "        MAE_anchor.append(MAE)\n",
    "        time_anchor.append(T)\n",
    "    print('.', end='')\n",
    "    # 模型和评价\n",
    "    rec_pre = UBCF_rec(train_df, s_data, 3)\n",
    "    co = list(set(test_df.columns) & set(rec_pre.columns))  # 位运算\n",
    "    rec_pre1 = rec_pre[co]\n",
    "    test_df1 = test_df[co]\n",
    "    MAE = []\n",
    "    for u in test_df1.index:\n",
    "        tmp = pd.concat([rec_pre1.loc[[u]], test_df1.loc[[u]]]).dropna(axis=1)\n",
    "        MAE.append(np.abs(tmp.iloc[0].values - tmp.iloc[1].values).mean())\n",
    "    MAE = np.nanmean(MAE)\n",
    "    print('预测评分与实际评分之间的均方误差为：', MAE)\n",
    "    # 写出推荐结果\n",
    "    rec_pre.to_csv('rec_pre.csv')"
   ]
  },
  {
   "cell_type": "code",
   "execution_count": null,
   "id": "926fee75",
   "metadata": {},
   "outputs": [],
   "source": []
  }
 ],
 "metadata": {
  "kernelspec": {
   "display_name": "Python 3",
   "language": "python",
   "name": "python3"
  },
  "language_info": {
   "codemirror_mode": {
    "name": "ipython",
    "version": 3
   },
   "file_extension": ".py",
   "mimetype": "text/x-python",
   "name": "python",
   "nbconvert_exporter": "python",
   "pygments_lexer": "ipython3",
   "version": "3.8.8"
  }
 },
 "nbformat": 4,
 "nbformat_minor": 5
}
