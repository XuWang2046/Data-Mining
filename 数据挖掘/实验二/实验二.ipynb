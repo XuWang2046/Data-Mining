{
 "cells": [
  {
   "cell_type": "code",
   "execution_count": 3,
   "id": "6fb11660",
   "metadata": {},
   "outputs": [],
   "source": [
    "# -*- coding: utf-8 -*-\n",
    "import numpy as np\n",
    "import pandas as pd\n",
    "def connect_string(x, ms):\n",
    "    x = list(map(lambda i: sorted(i.split(ms)), x))\n",
    "    l = len(x[0])\n",
    "    r = []\n",
    "    for i in range(len(x)):\n",
    "        for j in range(i, len(x)):\n",
    "            if x[i][:l - 1] == x[j][:l - 1] and x[i][l - 1] != x[j][l - 1]:\n",
    "                r.append(x[i][:l - 1] + sorted([x[j][l - 1], x[i][l - 1]]))\n",
    "    return r\n",
    "# 寻找关联规则的函数\n",
    "def find_rule(d, support, confidence, ms=u'--'):\n",
    "    result = pd.DataFrame(index=['support', 'confidence'])  # 定义输出结果\n",
    "    support_series = 1.0 * d.sum() / len(d)  # 支持度序列\n",
    "    column = list(support_series[support_series > support].index)  # 初步根据支持度筛选\n",
    "    k = 0\n",
    "    while len(column) > 1:\n",
    "        k = k + 1\n",
    "        print(u'\\n正在进行第%s次搜索...' % k)\n",
    "        column = connect_string(column, ms)\n",
    "        print(u'数目：%s...' % len(column))\n",
    "        sf = lambda i: d[i].prod(axis=1, numeric_only=True)  # 新一批支持度的计算函数\n",
    "\n",
    "        # 创建连接数据，这一步耗时、耗内存最严重。当数据集较大时，可以考虑并行运算优化。\n",
    "        d_2 = pd.DataFrame(list(map(sf, column)), index=[ms.join(i) for i in column]).T\n",
    "\n",
    "        support_series_2 = 1.0 * d_2[[ms.join(i) for i in column]].sum() / len(d)  # 计算连接后的支持度\n",
    "        column = list(support_series_2[support_series_2 > support].index)  # 新一轮支持度筛选\n",
    "        support_series = support_series.append(support_series_2)\n",
    "        column2 = []\n",
    "\n",
    "        for i in column:  # 遍历可能的推理，如{A,B,C}究竟是A+B-->C还是B+C-->A还是C+A-->B？\n",
    "            i = i.split(ms)\n",
    "            for j in range(len(i)):\n",
    "                column2.append(i[:j] + i[j + 1:] + i[j:j + 1])\n",
    "\n",
    "        cofidence_series = pd.Series(index=[ms.join(i) for i in column2])  # 定义置信度序列\n",
    "\n",
    "        for i in column2:  # 计算置信度序列\n",
    "            cofidence_series[ms.join(i)] = support_series[ms.join(sorted(i))] / support_series[ms.join(i[:len(i) - 1])]\n",
    "\n",
    "        for i in cofidence_series[cofidence_series > confidence].index:  # 置信度筛选\n",
    "            result[i] = 0.0\n",
    "            result[i]['confidence'] = cofidence_series[i]\n",
    "            result[i]['support'] = support_series[ms.join(sorted(i.split(ms)))]\n",
    "    result = result.T.sort_values(['confidence', 'support'], ascending=False)  # 结果整理，输出\n",
    "    print(u'\\n结果为：')\n",
    "    print(result)\n",
    "    return result"
   ]
  },
  {
   "cell_type": "code",
   "execution_count": 5,
   "id": "eec1b39d",
   "metadata": {},
   "outputs": [
    {
     "name": "stdout",
     "output_type": "stream",
     "text": [
      "\n",
      "转换原始数据至0-1矩阵\n",
      "\n",
      "转换完毕\n",
      "\n",
      "正在进行第1次搜索...\n",
      "数目：6...\n",
      "\n",
      "正在进行第2次搜索...\n",
      "数目：3...\n",
      "\n",
      "正在进行第3次搜索...\n",
      "数目：0...\n",
      "\n",
      "结果为：\n",
      "           support  confidence\n",
      "e---a          0.3    1.000000\n",
      "e---c          0.3    1.000000\n",
      "c---e---a      0.3    1.000000\n",
      "a---e---c      0.3    1.000000\n",
      "c---a          0.5    0.714286\n",
      "a---c          0.5    0.714286\n",
      "a---b          0.5    0.714286\n",
      "c---b          0.5    0.714286\n",
      "b---a          0.5    0.625000\n",
      "b---c          0.5    0.625000\n",
      "a---c---e      0.3    0.600000\n",
      "b---c---a      0.3    0.600000\n",
      "a---c---b      0.3    0.600000\n",
      "a---b---c      0.3    0.600000\n"
     ]
    },
    {
     "name": "stderr",
     "output_type": "stream",
     "text": [
      "<ipython-input-3-0ee5fa6beec3>:39: DeprecationWarning: The default dtype for empty Series will be 'object' instead of 'float64' in a future version. Specify a dtype explicitly to silence this warning.\n",
      "  cofidence_series = pd.Series(index=[ms.join(i) for i in column2])  # 定义置信度序列\n",
      "<ipython-input-3-0ee5fa6beec3>:39: DeprecationWarning: The default dtype for empty Series will be 'object' instead of 'float64' in a future version. Specify a dtype explicitly to silence this warning.\n",
      "  cofidence_series = pd.Series(index=[ms.join(i) for i in column2])  # 定义置信度序列\n",
      "<ipython-input-3-0ee5fa6beec3>:39: DeprecationWarning: The default dtype for empty Series will be 'object' instead of 'float64' in a future version. Specify a dtype explicitly to silence this warning.\n",
      "  cofidence_series = pd.Series(index=[ms.join(i) for i in column2])  # 定义置信度序列\n"
     ]
    },
    {
     "ename": "NameError",
     "evalue": "name 'apriori' is not defined",
     "output_type": "error",
     "traceback": [
      "\u001b[1;31m---------------------------------------------------------------------------\u001b[0m",
      "\u001b[1;31mNameError\u001b[0m                                 Traceback (most recent call last)",
      "\u001b[1;32m<ipython-input-5-bf148dc88018>\u001b[0m in \u001b[0;36m<module>\u001b[1;34m\u001b[0m\n\u001b[0;32m     14\u001b[0m \u001b[1;31m#关联规则分析并写出结果\u001b[0m\u001b[1;33m\u001b[0m\u001b[1;33m\u001b[0m\u001b[1;33m\u001b[0m\u001b[0m\n\u001b[0;32m     15\u001b[0m \u001b[0mapriori_result\u001b[0m \u001b[1;33m=\u001b[0m \u001b[0mfind_rule\u001b[0m\u001b[1;33m(\u001b[0m\u001b[0mdata\u001b[0m\u001b[1;33m,\u001b[0m \u001b[0msupport\u001b[0m\u001b[1;33m,\u001b[0m \u001b[0mconfidence\u001b[0m\u001b[1;33m,\u001b[0m \u001b[0mms\u001b[0m\u001b[1;33m)\u001b[0m\u001b[1;33m\u001b[0m\u001b[1;33m\u001b[0m\u001b[0m\n\u001b[1;32m---> 16\u001b[1;33m \u001b[0mapriori_result\u001b[0m \u001b[1;33m=\u001b[0m \u001b[0mapriori\u001b[0m\u001b[1;33m.\u001b[0m\u001b[0mresult\u001b[0m\u001b[1;33m.\u001b[0m\u001b[0mround\u001b[0m\u001b[1;33m(\u001b[0m\u001b[1;36m3\u001b[0m\u001b[1;33m)\u001b[0m\u001b[1;33m\u001b[0m\u001b[1;33m\u001b[0m\u001b[0m\n\u001b[0m\u001b[0;32m     17\u001b[0m \u001b[0mapriori_result\u001b[0m\u001b[1;33m.\u001b[0m \u001b[0mto_excel\u001b[0m\u001b[1;33m(\u001b[0m\u001b[1;34m'../tmp/apriori_result. xls'\u001b[0m\u001b[1;33m)\u001b[0m\u001b[1;33m\u001b[0m\u001b[1;33m\u001b[0m\u001b[0m\n",
      "\u001b[1;31mNameError\u001b[0m: name 'apriori' is not defined"
     ]
    }
   ],
   "source": [
    "from __future__ import print_function\n",
    "# 读取数据\n",
    "user_goods = pd.read_excel(\"data/goods_new.xls\", header = None)\n",
    "print('\\n转换原始数据至0-1矩阵')\n",
    "ct = lambda x:pd.Series(1, index = x[pd. notnull (x)]) #转换0-1矩阵的过渡函数\n",
    "b= map(ct, user_goods.values) #用map方式执行\n",
    "data= pd.DataFrame (list(b)).fillna(0) #实现矩阵转换,空值用0填充\n",
    "print('\\n转换完毕')\n",
    "del b # 删除中间变量b,节省内存\n",
    "support = 0.2 #最小支持度\n",
    "confidence = 0.5 #最小置信度\n",
    "ms='---'\n",
    "#连接符,用来区分不同元素\n",
    "#关联规则分析并写出结果\n",
    "apriori_result = find_rule(data, support, confidence, ms)\n",
    "apriori_result = apriori.result.round(3)\n",
    "apriori_result.to_excel('apriori_result. xls')"
   ]
  },
  {
   "cell_type": "code",
   "execution_count": null,
   "id": "48800301",
   "metadata": {},
   "outputs": [],
   "source": []
  }
 ],
 "metadata": {
  "kernelspec": {
   "display_name": "Python 3",
   "language": "python",
   "name": "python3"
  },
  "language_info": {
   "codemirror_mode": {
    "name": "ipython",
    "version": 3
   },
   "file_extension": ".py",
   "mimetype": "text/x-python",
   "name": "python",
   "nbconvert_exporter": "python",
   "pygments_lexer": "ipython3",
   "version": "3.8.8"
  }
 },
 "nbformat": 4,
 "nbformat_minor": 5
}
